{
 "cells": [
  {
   "cell_type": "markdown",
   "metadata": {
    "_uuid": "84b09d3a0b88e078db1bee5cbd5d8895583d8f0f"
   },
   "source": [
    "## Importing Necessary Libraries"
   ]
  },
  {
   "cell_type": "code",
   "execution_count": 1,
   "metadata": {
    "_uuid": "b83308f6231dee2245c1a2ef35050d387d470582"
   },
   "outputs": [],
   "source": [
    "import warnings\n",
    "warnings.filterwarnings('ignore')"
   ]
  },
  {
   "cell_type": "code",
   "execution_count": 2,
   "metadata": {
    "_uuid": "628412fed976f1122727f106b38d6db98a714716"
   },
   "outputs": [
    {
     "name": "stdout",
     "output_type": "stream",
     "text": [
      "['amer_sign3.png', 'sign_mnist_train.csv', 'sign_mnist_train', 'american_sign_language.PNG', 'sign_mnist_test', 'amer_sign2.png', 'sign_mnist_test.csv']\n"
     ]
    }
   ],
   "source": [
    "import os\n",
    "print(os.listdir(\"./sign-language-mnist/\"))"
   ]
  },
  {
   "cell_type": "code",
   "execution_count": 152,
   "metadata": {
    "_cell_guid": "b1076dfc-b9ad-4769-8c92-a6c4dae69d19",
    "_uuid": "8f2839f25d086af736a60e9eeb907d3b93b6e0e5"
   },
   "outputs": [],
   "source": [
    "import numpy as np\n",
    "import pandas as pd\n",
    "import tensorflow.keras as keras\n",
    "from tensorflow.python.keras.models import Sequential\n",
    "from tensorflow.python.keras.layers import Dense, Conv2D , MaxPool2D , Flatten , Dropout , BatchNormalization\n",
    "from tensorflow.python.keras.preprocessing.image import ImageDataGenerator\n",
    "from tensorflow.python.keras.callbacks import ReduceLROnPlateau\n",
    "import matplotlib.pyplot as plt\n",
    "from collections import Counter\n",
    "from tqdm import tqdm\n",
    "import cv2"
   ]
  },
  {
   "cell_type": "markdown",
   "metadata": {
    "_uuid": "9454ccb3c30e9b35090060650dfcd0d2e86c2c4e"
   },
   "source": [
    "## Exploratory Analysis of Training Data"
   ]
  },
  {
   "cell_type": "code",
   "execution_count": 126,
   "metadata": {
    "_cell_guid": "79c7e3d0-c299-4dcb-8224-4455121ee9b0",
    "_uuid": "d629ff2d2480ee46fbb7e2d37f6b5fab8052498a"
   },
   "outputs": [
    {
     "name": "stdout",
     "output_type": "stream",
     "text": [
      "Dataframe Shape: (1626, 1081)\n"
     ]
    }
   ],
   "source": [
    "data = pd.read_csv('./Training_data_preparation/custom_training_data.csv', index_col = 0)\n",
    "print('Dataframe Shape:', data.shape)"
   ]
  },
  {
   "cell_type": "code",
   "execution_count": 127,
   "metadata": {
    "_uuid": "99a1ee35f1dffb1f7ff5931db2923c7b777ebfba"
   },
   "outputs": [
    {
     "data": {
      "text/html": [
       "<div>\n",
       "<style scoped>\n",
       "    .dataframe tbody tr th:only-of-type {\n",
       "        vertical-align: middle;\n",
       "    }\n",
       "\n",
       "    .dataframe tbody tr th {\n",
       "        vertical-align: top;\n",
       "    }\n",
       "\n",
       "    .dataframe thead th {\n",
       "        text-align: right;\n",
       "    }\n",
       "</style>\n",
       "<table border=\"1\" class=\"dataframe\">\n",
       "  <thead>\n",
       "    <tr style=\"text-align: right;\">\n",
       "      <th></th>\n",
       "      <th>label</th>\n",
       "      <th>0</th>\n",
       "      <th>1</th>\n",
       "      <th>2</th>\n",
       "      <th>3</th>\n",
       "      <th>4</th>\n",
       "      <th>5</th>\n",
       "      <th>6</th>\n",
       "      <th>7</th>\n",
       "      <th>8</th>\n",
       "      <th>...</th>\n",
       "      <th>1070</th>\n",
       "      <th>1071</th>\n",
       "      <th>1072</th>\n",
       "      <th>1073</th>\n",
       "      <th>1074</th>\n",
       "      <th>1075</th>\n",
       "      <th>1076</th>\n",
       "      <th>1077</th>\n",
       "      <th>1078</th>\n",
       "      <th>1079</th>\n",
       "    </tr>\n",
       "  </thead>\n",
       "  <tbody>\n",
       "    <tr>\n",
       "      <th>0</th>\n",
       "      <td>12</td>\n",
       "      <td>0</td>\n",
       "      <td>0</td>\n",
       "      <td>0</td>\n",
       "      <td>0</td>\n",
       "      <td>0</td>\n",
       "      <td>0</td>\n",
       "      <td>0</td>\n",
       "      <td>0</td>\n",
       "      <td>0</td>\n",
       "      <td>...</td>\n",
       "      <td>0</td>\n",
       "      <td>0</td>\n",
       "      <td>0</td>\n",
       "      <td>0</td>\n",
       "      <td>0</td>\n",
       "      <td>0</td>\n",
       "      <td>0</td>\n",
       "      <td>0</td>\n",
       "      <td>0</td>\n",
       "      <td>0</td>\n",
       "    </tr>\n",
       "    <tr>\n",
       "      <th>1</th>\n",
       "      <td>16</td>\n",
       "      <td>0</td>\n",
       "      <td>0</td>\n",
       "      <td>0</td>\n",
       "      <td>0</td>\n",
       "      <td>0</td>\n",
       "      <td>0</td>\n",
       "      <td>0</td>\n",
       "      <td>0</td>\n",
       "      <td>0</td>\n",
       "      <td>...</td>\n",
       "      <td>0</td>\n",
       "      <td>0</td>\n",
       "      <td>0</td>\n",
       "      <td>0</td>\n",
       "      <td>0</td>\n",
       "      <td>0</td>\n",
       "      <td>0</td>\n",
       "      <td>0</td>\n",
       "      <td>0</td>\n",
       "      <td>0</td>\n",
       "    </tr>\n",
       "    <tr>\n",
       "      <th>2</th>\n",
       "      <td>16</td>\n",
       "      <td>0</td>\n",
       "      <td>0</td>\n",
       "      <td>0</td>\n",
       "      <td>0</td>\n",
       "      <td>2</td>\n",
       "      <td>2</td>\n",
       "      <td>1</td>\n",
       "      <td>0</td>\n",
       "      <td>0</td>\n",
       "      <td>...</td>\n",
       "      <td>0</td>\n",
       "      <td>0</td>\n",
       "      <td>0</td>\n",
       "      <td>0</td>\n",
       "      <td>0</td>\n",
       "      <td>0</td>\n",
       "      <td>0</td>\n",
       "      <td>0</td>\n",
       "      <td>0</td>\n",
       "      <td>0</td>\n",
       "    </tr>\n",
       "    <tr>\n",
       "      <th>3</th>\n",
       "      <td>14</td>\n",
       "      <td>0</td>\n",
       "      <td>0</td>\n",
       "      <td>0</td>\n",
       "      <td>0</td>\n",
       "      <td>0</td>\n",
       "      <td>0</td>\n",
       "      <td>0</td>\n",
       "      <td>0</td>\n",
       "      <td>0</td>\n",
       "      <td>...</td>\n",
       "      <td>0</td>\n",
       "      <td>0</td>\n",
       "      <td>0</td>\n",
       "      <td>0</td>\n",
       "      <td>0</td>\n",
       "      <td>0</td>\n",
       "      <td>0</td>\n",
       "      <td>0</td>\n",
       "      <td>0</td>\n",
       "      <td>0</td>\n",
       "    </tr>\n",
       "    <tr>\n",
       "      <th>4</th>\n",
       "      <td>12</td>\n",
       "      <td>0</td>\n",
       "      <td>0</td>\n",
       "      <td>0</td>\n",
       "      <td>0</td>\n",
       "      <td>0</td>\n",
       "      <td>0</td>\n",
       "      <td>0</td>\n",
       "      <td>0</td>\n",
       "      <td>0</td>\n",
       "      <td>...</td>\n",
       "      <td>0</td>\n",
       "      <td>0</td>\n",
       "      <td>0</td>\n",
       "      <td>0</td>\n",
       "      <td>0</td>\n",
       "      <td>0</td>\n",
       "      <td>0</td>\n",
       "      <td>0</td>\n",
       "      <td>0</td>\n",
       "      <td>0</td>\n",
       "    </tr>\n",
       "  </tbody>\n",
       "</table>\n",
       "<p>5 rows × 1081 columns</p>\n",
       "</div>"
      ],
      "text/plain": [
       "   label  0  1  2  3  4  5  6  7  8  ...  1070  1071  1072  1073  1074  1075  \\\n",
       "0     12  0  0  0  0  0  0  0  0  0  ...     0     0     0     0     0     0   \n",
       "1     16  0  0  0  0  0  0  0  0  0  ...     0     0     0     0     0     0   \n",
       "2     16  0  0  0  0  2  2  1  0  0  ...     0     0     0     0     0     0   \n",
       "3     14  0  0  0  0  0  0  0  0  0  ...     0     0     0     0     0     0   \n",
       "4     12  0  0  0  0  0  0  0  0  0  ...     0     0     0     0     0     0   \n",
       "\n",
       "   1076  1077  1078  1079  \n",
       "0     0     0     0     0  \n",
       "1     0     0     0     0  \n",
       "2     0     0     0     0  \n",
       "3     0     0     0     0  \n",
       "4     0     0     0     0  \n",
       "\n",
       "[5 rows x 1081 columns]"
      ]
     },
     "execution_count": 127,
     "metadata": {},
     "output_type": "execute_result"
    }
   ],
   "source": [
    "data.head()"
   ]
  },
  {
   "cell_type": "code",
   "execution_count": 131,
   "metadata": {
    "_uuid": "15f8bfe9e37c3436c350ec44a5816afaa29c4c20"
   },
   "outputs": [
    {
     "name": "stdout",
     "output_type": "stream",
     "text": [
      "Number of images: 1626\n",
      "Number of pixels in each image: 1080\n"
     ]
    }
   ],
   "source": [
    "x = data.iloc[:, 1:].values\n",
    "print(\"Number of images:\", x.shape[0])\n",
    "print(\"Number of pixels in each image:\", x.shape[1])"
   ]
  },
  {
   "cell_type": "code",
   "execution_count": 132,
   "metadata": {
    "_uuid": "39ef28049f298587e051cabda2405d0870b1d1fa"
   },
   "outputs": [
    {
     "name": "stdout",
     "output_type": "stream",
     "text": [
      "Labels:\n",
      " [12 16 16 ... 14 10  1]\n",
      "Shape of Labels: (1626,)\n"
     ]
    }
   ],
   "source": [
    "y = data.iloc[:, :1].values.flatten()\n",
    "print('Labels:\\n', y)\n",
    "print('Shape of Labels:', y.shape)"
   ]
  },
  {
   "cell_type": "code",
   "execution_count": 133,
   "metadata": {
    "_uuid": "1efe3ae08c54cde1479b191fe54858c87bfe36b4"
   },
   "outputs": [],
   "source": [
    "def next_batch(batch_size, data, labels):\n",
    "    idx = np.arange(0, len(data))\n",
    "    np.random.shuffle(idx)\n",
    "    idx = idx[: batch_size]\n",
    "    data_shuffle = [data[i] for i in idx]\n",
    "    labels_shuffle = [labels[i] for i in idx]\n",
    "    return np.asarray(data_shuffle), np.asarray(labels_shuffle)"
   ]
  },
  {
   "cell_type": "code",
   "execution_count": 138,
   "metadata": {
    "_uuid": "a4391ec1b5b52c5588de8cb28572327548c7b343"
   },
   "outputs": [],
   "source": [
    "def display_images(data, no_of_rows, no_of_cols):\n",
    "    x, y = data\n",
    "    fig, axes = plt.subplots(no_of_rows, no_of_cols)\n",
    "    fig.subplots_adjust(hspace = 0.5, wspace = 0.5)\n",
    "    for i, ax in enumerate(axes.flat):\n",
    "        ax.imshow(x[i].reshape(36, 30), cmap = 'binary')\n",
    "        ax.set_xlabel(chr(y[i] + 65))\n",
    "        ax.set_xticks([])\n",
    "        ax.set_yticks([])\n",
    "    plt.show()"
   ]
  },
  {
   "cell_type": "code",
   "execution_count": 139,
   "metadata": {
    "_uuid": "d6b7c884816115ee16f9dcc4afbd84459e51adce"
   },
   "outputs": [
    {
     "data": {
      "image/png": "[encoded data removed]",
      "text/plain": [
       "<Figure size 432x288 with 9 Axes>"
      ]
     },
     "metadata": {},
     "output_type": "display_data"
    }
   ],
   "source": [
    "display_images(next_batch(9, x, y), 3, 3)"
   ]
  },
  {
   "cell_type": "code",
   "execution_count": 140,
   "metadata": {
    "_uuid": "e24f19ecd1a7215b06b11b811ab504fdf4ee1fe6"
   },
   "outputs": [
    {
     "data": {
      "image/png": "[encoded data removed]",
      "text/plain": [
       "<Figure size 1440x720 with 1 Axes>"
      ]
     },
     "metadata": {
      "needs_background": "light"
     },
     "output_type": "display_data"
    }
   ],
   "source": [
    "z = dict(Counter(list(y)))\n",
    "labels = z.keys()\n",
    "frequencies = [z[i] for i in labels]\n",
    "labels = [pred_dict[i] for i in z.keys()]\n",
    "\n",
    "plt.figure(figsize = (20, 10))\n",
    "plt.bar(labels, frequencies)\n",
    "plt.title('Frequency Distribution of Alphabets', fontsize = 20)\n",
    "plt.show()"
   ]
  },
  {
   "cell_type": "code",
   "execution_count": 141,
   "metadata": {
    "_uuid": "c206c3161a73e318f6d16cedd14c276224d26823"
   },
   "outputs": [
    {
     "name": "stdout",
     "output_type": "stream",
     "text": [
      "Shape of y after encoding: (1626, 24)\n"
     ]
    }
   ],
   "source": [
    "def one_hot_encode(y):\n",
    "    return np.eye(24)[y]\n",
    "y_encoded = one_hot_encode(y)\n",
    "print('Shape of y after encoding:', y_encoded.shape)"
   ]
  },
  {
   "cell_type": "markdown",
   "metadata": {
    "_uuid": "2ee97e25d9d5f8919fd88d4d78a0f43e8dab6e05"
   },
   "source": [
    "## Pre defining parametrs"
   ]
  },
  {
   "cell_type": "code",
   "execution_count": 142,
   "metadata": {},
   "outputs": [],
   "source": [
    "x = x/255"
   ]
  },
  {
   "cell_type": "code",
   "execution_count": 143,
   "metadata": {
    "_uuid": "2fa1a4a9ddba2ea579a2a70569ed65b848d6ed57"
   },
   "outputs": [
    {
     "name": "stdout",
     "output_type": "stream",
     "text": [
      "X train shape (1138, 1080)\n",
      "y train shape (1138, 24)\n",
      "X test shape (488, 1080)\n",
      "y test shape (488, 24)\n"
     ]
    }
   ],
   "source": [
    "# Splitting the dataset into Training and Holdout(Test set)\n",
    "from sklearn.model_selection import train_test_split\n",
    "x_train, x_test, y_train, y_test = train_test_split(x, y_encoded, test_size = 0.3, random_state = 42)\n",
    "print('X train shape', x_train.shape)\n",
    "print('y train shape', y_train.shape)\n",
    "print('X test shape', x_test.shape)\n",
    "print('y test shape', y_test.shape)"
   ]
  },
  {
   "cell_type": "code",
   "execution_count": 145,
   "metadata": {},
   "outputs": [],
   "source": [
    "datagen = ImageDataGenerator(\n",
    "        featurewise_center=False,  # set input mean to 0 over the dataset\n",
    "        samplewise_center=False,  # set each sample mean to 0\n",
    "        featurewise_std_normalization=False,  # divide inputs by std of the dataset\n",
    "        samplewise_std_normalization=False,  # divide each input by its std\n",
    "        zca_whitening=False,  # apply ZCA whitening\n",
    "        rotation_range=10,  # randomly rotate images in the range (degrees, 0 to 180)\n",
    "        zoom_range = 0.1, # Randomly zoom image \n",
    "        width_shift_range=0.1,  # randomly shift images horizontally (fraction of total width)\n",
    "        height_shift_range=0.1,  # randomly shift images vertically (fraction of total height)\n",
    "        horizontal_flip=False,  # randomly flip images\n",
    "        vertical_flip=False)  # randomly flip images\n",
    "\n",
    "\n",
    "datagen.fit(x_train.reshape(-1, 36, 30, 1))"
   ]
  },
  {
   "cell_type": "code",
   "execution_count": 159,
   "metadata": {},
   "outputs": [],
   "source": [
    "learning_rate_reduction = ReduceLROnPlateau(monitor='val_acc', patience = 2, verbose=1,factor=0.5, min_lr=0.0000001)"
   ]
  },
  {
   "cell_type": "markdown",
   "metadata": {},
   "source": [
    "## Using Keras"
   ]
  },
  {
   "cell_type": "code",
   "execution_count": 160,
   "metadata": {},
   "outputs": [
    {
     "name": "stdout",
     "output_type": "stream",
     "text": [
      "Model: \"sequential_4\"\n",
      "_________________________________________________________________\n",
      "Layer (type)                 Output Shape              Param #   \n",
      "=================================================================\n",
      "conv2d_12 (Conv2D)           (None, 36, 30, 75)        750       \n",
      "_________________________________________________________________\n",
      "batch_normalization_12 (Batc (None, 36, 30, 75)        300       \n",
      "_________________________________________________________________\n",
      "max_pooling2d_12 (MaxPooling (None, 18, 15, 75)        0         \n",
      "_________________________________________________________________\n",
      "conv2d_13 (Conv2D)           (None, 18, 15, 50)        33800     \n",
      "_________________________________________________________________\n",
      "dropout_8 (Dropout)          (None, 18, 15, 50)        0         \n",
      "_________________________________________________________________\n",
      "batch_normalization_13 (Batc (None, 18, 15, 50)        200       \n",
      "_________________________________________________________________\n",
      "max_pooling2d_13 (MaxPooling (None, 9, 8, 50)          0         \n",
      "_________________________________________________________________\n",
      "conv2d_14 (Conv2D)           (None, 9, 8, 25)          11275     \n",
      "_________________________________________________________________\n",
      "batch_normalization_14 (Batc (None, 9, 8, 25)          100       \n",
      "_________________________________________________________________\n",
      "max_pooling2d_14 (MaxPooling (None, 5, 4, 25)          0         \n",
      "_________________________________________________________________\n",
      "flatten_4 (Flatten)          (None, 500)               0         \n",
      "_________________________________________________________________\n",
      "dense_8 (Dense)              (None, 512)               256512    \n",
      "_________________________________________________________________\n",
      "dropout_9 (Dropout)          (None, 512)               0         \n",
      "_________________________________________________________________\n",
      "dense_9 (Dense)              (None, 24)                12312     \n",
      "=================================================================\n",
      "Total params: 315,249\n",
      "Trainable params: 314,949\n",
      "Non-trainable params: 300\n",
      "_________________________________________________________________\n"
     ]
    }
   ],
   "source": [
    "model = Sequential()\n",
    "model.add(Conv2D(75 , (3,3) , strides = 1 , padding = 'same' , activation = 'relu' , input_shape = (36,30,1)))\n",
    "model.add(BatchNormalization())\n",
    "model.add(MaxPool2D((2,2) , strides = 2 , padding = 'same'))\n",
    "model.add(Conv2D(50 , (3,3) , strides = 1 , padding = 'same' , activation = 'relu'))\n",
    "model.add(Dropout(0.2))\n",
    "model.add(BatchNormalization())\n",
    "model.add(MaxPool2D((2,2) , strides = 2 , padding = 'same'))\n",
    "model.add(Conv2D(25 , (3,3) , strides = 1 , padding = 'same' , activation = 'relu'))\n",
    "model.add(BatchNormalization())\n",
    "model.add(MaxPool2D((2,2) , strides = 2 , padding = 'same'))\n",
    "model.add(Flatten())\n",
    "model.add(Dense(units = 512 , activation = 'relu'))\n",
    "model.add(Dropout(0.3))\n",
    "model.add(Dense(units = 24 , activation = 'softmax'))\n",
    "model.compile(optimizer = 'adam' , loss = 'categorical_crossentropy' , metrics = ['accuracy'])\n",
    "model.summary()"
   ]
  },
  {
   "cell_type": "code",
   "execution_count": 161,
   "metadata": {},
   "outputs": [],
   "source": [
    "x_train = x_train.reshape(-1,36,30,1)\n",
    "x_test = x_test.reshape(-1,36,30,1)"
   ]
  },
  {
   "cell_type": "code",
   "execution_count": 163,
   "metadata": {
    "scrolled": true
   },
   "outputs": [
    {
     "name": "stdout",
     "output_type": "stream",
     "text": [
      "Epoch 1/30\n",
      "9/9 [==============================] - 12s 1s/step - loss: 0.3435 - acc: 0.9069 - val_loss: 0.3320 - val_acc: 0.9037\n",
      "Epoch 2/30\n",
      "9/9 [==============================] - 11s 1s/step - loss: 0.3333 - acc: 0.9069 - val_loss: 0.3225 - val_acc: 0.9119\n",
      "Epoch 3/30\n",
      "9/9 [==============================] - 11s 1s/step - loss: 0.3463 - acc: 0.9033 - val_loss: 0.3002 - val_acc: 0.9365\n",
      "Epoch 4/30\n",
      "9/9 [==============================] - 11s 1s/step - loss: 0.3412 - acc: 0.9025 - val_loss: 0.2801 - val_acc: 0.9488\n",
      "Epoch 5/30\n",
      "9/9 [==============================] - 12s 1s/step - loss: 0.3718 - acc: 0.8875 - val_loss: 0.2625 - val_acc: 0.9508\n",
      "Epoch 6/30\n",
      "9/9 [==============================] - 14s 2s/step - loss: 0.3351 - acc: 0.9095 - val_loss: 0.2469 - val_acc: 0.9549\n",
      "Epoch 7/30\n",
      "9/9 [==============================] - 15s 2s/step - loss: 0.3558 - acc: 0.9051 - val_loss: 0.2331 - val_acc: 0.9672\n",
      "Epoch 8/30\n",
      "9/9 [==============================] - 14s 2s/step - loss: 0.3580 - acc: 0.8946 - val_loss: 0.2211 - val_acc: 0.9713\n",
      "Epoch 9/30\n",
      "9/9 [==============================] - 15s 2s/step - loss: 0.3714 - acc: 0.8998 - val_loss: 0.2106 - val_acc: 0.9754\n",
      "Epoch 10/30\n",
      "9/9 [==============================] - 12s 1s/step - loss: 0.3480 - acc: 0.9016 - val_loss: 0.2013 - val_acc: 0.9754\n",
      "Epoch 11/30\n",
      "8/9 [=========================>....] - ETA: 1s - loss: 0.3644 - acc: 0.9030\n",
      "Epoch 00011: ReduceLROnPlateau reducing learning rate to 1e-07.\n",
      "9/9 [==============================] - 11s 1s/step - loss: 0.3606 - acc: 0.9051 - val_loss: 0.1932 - val_acc: 0.9754\n",
      "Epoch 12/30\n",
      "9/9 [==============================] - 11s 1s/step - loss: 0.3340 - acc: 0.8998 - val_loss: 0.1862 - val_acc: 0.9775\n",
      "Epoch 13/30\n",
      "9/9 [==============================] - 13s 1s/step - loss: 0.3695 - acc: 0.8998 - val_loss: 0.1801 - val_acc: 0.9795\n",
      "Epoch 14/30\n",
      "9/9 [==============================] - 11s 1s/step - loss: 0.3246 - acc: 0.9095 - val_loss: 0.1748 - val_acc: 0.9795\n",
      "Epoch 15/30\n",
      "8/9 [=========================>....] - ETA: 1s - loss: 0.3544 - acc: 0.8990\n",
      "Epoch 00015: ReduceLROnPlateau reducing learning rate to 1e-07.\n",
      "9/9 [==============================] - 11s 1s/step - loss: 0.3513 - acc: 0.8981 - val_loss: 0.1702 - val_acc: 0.9795\n",
      "Epoch 16/30\n",
      "9/9 [==============================] - 11s 1s/step - loss: 0.3666 - acc: 0.8937 - val_loss: 0.1663 - val_acc: 0.9836\n",
      "Epoch 17/30\n",
      "9/9 [==============================] - 12s 1s/step - loss: 0.3171 - acc: 0.9130 - val_loss: 0.1628 - val_acc: 0.9836\n",
      "Epoch 18/30\n",
      "8/9 [=========================>....] - ETA: 1s - loss: 0.3489 - acc: 0.9069\n",
      "Epoch 00018: ReduceLROnPlateau reducing learning rate to 1e-07.\n",
      "9/9 [==============================] - 14s 2s/step - loss: 0.3512 - acc: 0.9033 - val_loss: 0.1599 - val_acc: 0.9836\n",
      "Epoch 19/30\n",
      "9/9 [==============================] - 15s 2s/step - loss: 0.3406 - acc: 0.9042 - val_loss: 0.1573 - val_acc: 0.9836\n",
      "Epoch 20/30\n",
      "9/9 [==============================] - 13s 1s/step - loss: 0.3546 - acc: 0.8972 - val_loss: 0.1551 - val_acc: 0.9857\n",
      "Epoch 21/30\n",
      "9/9 [==============================] - 13s 1s/step - loss: 0.3178 - acc: 0.9086 - val_loss: 0.1533 - val_acc: 0.9857\n",
      "Epoch 22/30\n",
      "8/9 [=========================>....] - ETA: 1s - loss: 0.3461 - acc: 0.9050\n",
      "Epoch 00022: ReduceLROnPlateau reducing learning rate to 1e-07.\n",
      "9/9 [==============================] - 14s 2s/step - loss: 0.3592 - acc: 0.8998 - val_loss: 0.1516 - val_acc: 0.9857\n",
      "Epoch 23/30\n",
      "9/9 [==============================] - 16s 2s/step - loss: 0.3158 - acc: 0.9139 - val_loss: 0.1503 - val_acc: 0.9877\n",
      "Epoch 24/30\n",
      "9/9 [==============================] - 13s 1s/step - loss: 0.3688 - acc: 0.8928 - val_loss: 0.1447 - val_acc: 0.9857\n",
      "Epoch 25/30\n",
      "8/9 [=========================>....] - ETA: 1s - loss: 0.3139 - acc: 0.9109\n",
      "Epoch 00025: ReduceLROnPlateau reducing learning rate to 1e-07.\n",
      "9/9 [==============================] - 14s 2s/step - loss: 0.3190 - acc: 0.9095 - val_loss: 0.1480 - val_acc: 0.9857\n",
      "Epoch 26/30\n",
      "9/9 [==============================] - 13s 1s/step - loss: 0.3639 - acc: 0.9007 - val_loss: 0.1471 - val_acc: 0.9857\n",
      "Epoch 27/30\n",
      "8/9 [=========================>....] - ETA: 1s - loss: 0.3318 - acc: 0.9000\n",
      "Epoch 00027: ReduceLROnPlateau reducing learning rate to 1e-07.\n",
      "9/9 [==============================] - 14s 2s/step - loss: 0.3383 - acc: 0.8972 - val_loss: 0.1463 - val_acc: 0.9857\n",
      "Epoch 28/30\n",
      "9/9 [==============================] - 13s 1s/step - loss: 0.3365 - acc: 0.9130 - val_loss: 0.1457 - val_acc: 0.9857\n",
      "Epoch 29/30\n",
      "8/9 [=========================>....] - ETA: 1s - loss: 0.3239 - acc: 0.9119\n",
      "Epoch 00029: ReduceLROnPlateau reducing learning rate to 1e-07.\n",
      "9/9 [==============================] - 15s 2s/step - loss: 0.3282 - acc: 0.9104 - val_loss: 0.1451 - val_acc: 0.9857\n",
      "Epoch 30/30\n",
      "9/9 [==============================] - 13s 1s/step - loss: 0.3245 - acc: 0.9033 - val_loss: 0.1446 - val_acc: 0.9857\n"
     ]
    }
   ],
   "source": [
    "history = model.fit(datagen.flow(x_train, y_train, batch_size=128) ,epochs = 30 , validation_data = (x_test, y_test), callbacks=[learning_rate_reduction])"
   ]
  },
  {
   "cell_type": "code",
   "execution_count": 164,
   "metadata": {},
   "outputs": [],
   "source": [
    "model.save('model4')"
   ]
  },
  {
   "cell_type": "markdown",
   "metadata": {},
   "source": [
    "## Testing Predictions"
   ]
  },
  {
   "cell_type": "code",
   "execution_count": 165,
   "metadata": {},
   "outputs": [],
   "source": [
    "model = keras.models.load_model('model4')"
   ]
  },
  {
   "cell_type": "code",
   "execution_count": 166,
   "metadata": {},
   "outputs": [
    {
     "name": "stdout",
     "output_type": "stream",
     "text": [
      "Model: \"sequential_4\"\n",
      "_________________________________________________________________\n",
      "Layer (type)                 Output Shape              Param #   \n",
      "=================================================================\n",
      "conv2d_12 (Conv2D)           (None, 36, 30, 75)        750       \n",
      "_________________________________________________________________\n",
      "batch_normalization_12 (Batc (None, 36, 30, 75)        300       \n",
      "_________________________________________________________________\n",
      "max_pooling2d_12 (MaxPooling (None, 18, 15, 75)        0         \n",
      "_________________________________________________________________\n",
      "conv2d_13 (Conv2D)           (None, 18, 15, 50)        33800     \n",
      "_________________________________________________________________\n",
      "dropout_8 (Dropout)          (None, 18, 15, 50)        0         \n",
      "_________________________________________________________________\n",
      "batch_normalization_13 (Batc (None, 18, 15, 50)        200       \n",
      "_________________________________________________________________\n",
      "max_pooling2d_13 (MaxPooling (None, 9, 8, 50)          0         \n",
      "_________________________________________________________________\n",
      "conv2d_14 (Conv2D)           (None, 9, 8, 25)          11275     \n",
      "_________________________________________________________________\n",
      "batch_normalization_14 (Batc (None, 9, 8, 25)          100       \n",
      "_________________________________________________________________\n",
      "max_pooling2d_14 (MaxPooling (None, 5, 4, 25)          0         \n",
      "_________________________________________________________________\n",
      "flatten_4 (Flatten)          (None, 500)               0         \n",
      "_________________________________________________________________\n",
      "dense_8 (Dense)              (None, 512)               256512    \n",
      "_________________________________________________________________\n",
      "dropout_9 (Dropout)          (None, 512)               0         \n",
      "_________________________________________________________________\n",
      "dense_9 (Dense)              (None, 24)                12312     \n",
      "=================================================================\n",
      "Total params: 315,249\n",
      "Trainable params: 314,949\n",
      "Non-trainable params: 300\n",
      "_________________________________________________________________\n"
     ]
    }
   ],
   "source": [
    "model.summary()"
   ]
  },
  {
   "cell_type": "code",
   "execution_count": 167,
   "metadata": {},
   "outputs": [],
   "source": [
    "pred_dict = {}\n",
    "ch = 'A'\n",
    "for i in range(25):\n",
    "    if ch == 'J':\n",
    "        ch = chr(ord(ch)+1)\n",
    "    pred_dict[i] = ch\n",
    "    ch = chr(ord(ch)+1)"
   ]
  },
  {
   "cell_type": "code",
   "execution_count": 168,
   "metadata": {},
   "outputs": [
    {
     "data": {
      "text/plain": [
       "{0: 'A',\n",
       " 1: 'B',\n",
       " 2: 'C',\n",
       " 3: 'D',\n",
       " 4: 'E',\n",
       " 5: 'F',\n",
       " 6: 'G',\n",
       " 7: 'H',\n",
       " 8: 'I',\n",
       " 9: 'K',\n",
       " 10: 'L',\n",
       " 11: 'M',\n",
       " 12: 'N',\n",
       " 13: 'O',\n",
       " 14: 'P',\n",
       " 15: 'Q',\n",
       " 16: 'R',\n",
       " 17: 'S',\n",
       " 18: 'T',\n",
       " 19: 'U',\n",
       " 20: 'V',\n",
       " 21: 'W',\n",
       " 22: 'X',\n",
       " 23: 'Y',\n",
       " 24: 'Z'}"
      ]
     },
     "execution_count": 168,
     "metadata": {},
     "output_type": "execute_result"
    }
   ],
   "source": [
    "pred_dict"
   ]
  },
  {
   "cell_type": "code",
   "execution_count": 196,
   "metadata": {},
   "outputs": [],
   "source": [
    "def get_prediction(arr):\n",
    "    arr = arr.reshape(-1,36,30,1)\n",
    "    return pred_dict[model.predict_classes(arr)[0]]"
   ]
  },
  {
   "cell_type": "code",
   "execution_count": 170,
   "metadata": {},
   "outputs": [
    {
     "data": {
      "image/png": "[encoded data removed]",
      "text/plain": [
       "<Figure size 432x288 with 1 Axes>"
      ]
     },
     "metadata": {
      "needs_background": "light"
     },
     "output_type": "display_data"
    },
    {
     "name": "stdout",
     "output_type": "stream",
     "text": [
      "O\n"
     ]
    },
    {
     "data": {
      "image/png": "[encoded data removed]",
      "text/plain": [
       "<Figure size 432x288 with 1 Axes>"
      ]
     },
     "metadata": {
      "needs_background": "light"
     },
     "output_type": "display_data"
    },
    {
     "name": "stdout",
     "output_type": "stream",
     "text": [
      "A\n"
     ]
    },
    {
     "data": {
      "image/png": "[encoded data removed]",
      "text/plain": [
       "<Figure size 432x288 with 1 Axes>"
      ]
     },
     "metadata": {
      "needs_background": "light"
     },
     "output_type": "display_data"
    },
    {
     "name": "stdout",
     "output_type": "stream",
     "text": [
      "T\n"
     ]
    },
    {
     "data": {
      "image/png": "[encoded data removed]",
      "text/plain": [
       "<Figure size 432x288 with 1 Axes>"
      ]
     },
     "metadata": {
      "needs_background": "light"
     },
     "output_type": "display_data"
    },
    {
     "name": "stdout",
     "output_type": "stream",
     "text": [
      "F\n"
     ]
    },
    {
     "data": {
      "image/png": "[encoded data removed]",
      "text/plain": [
       "<Figure size 432x288 with 1 Axes>"
      ]
     },
     "metadata": {
      "needs_background": "light"
     },
     "output_type": "display_data"
    },
    {
     "name": "stdout",
     "output_type": "stream",
     "text": [
      "W\n"
     ]
    },
    {
     "data": {
      "image/png": "[encoded data removed]",
      "text/plain": [
       "<Figure size 432x288 with 1 Axes>"
      ]
     },
     "metadata": {
      "needs_background": "light"
     },
     "output_type": "display_data"
    },
    {
     "name": "stdout",
     "output_type": "stream",
     "text": [
      "F\n"
     ]
    },
    {
     "data": {
      "image/png": "[encoded data removed]",
      "text/plain": [
       "<Figure size 432x288 with 1 Axes>"
      ]
     },
     "metadata": {
      "needs_background": "light"
     },
     "output_type": "display_data"
    },
    {
     "name": "stdout",
     "output_type": "stream",
     "text": [
      "P\n"
     ]
    },
    {
     "data": {
      "image/png": "[encoded data removed]",
      "text/plain": [
       "<Figure size 432x288 with 1 Axes>"
      ]
     },
     "metadata": {
      "needs_background": "light"
     },
     "output_type": "display_data"
    },
    {
     "name": "stdout",
     "output_type": "stream",
     "text": [
      "T\n"
     ]
    },
    {
     "data": {
      "image/png": "[encoded data removed]",
      "text/plain": [
       "<Figure size 432x288 with 1 Axes>"
      ]
     },
     "metadata": {
      "needs_background": "light"
     },
     "output_type": "display_data"
    },
    {
     "name": "stdout",
     "output_type": "stream",
     "text": [
      "R\n"
     ]
    },
    {
     "data": {
      "image/png": "[encoded data removed]",
      "text/plain": [
       "<Figure size 432x288 with 1 Axes>"
      ]
     },
     "metadata": {
      "needs_background": "light"
     },
     "output_type": "display_data"
    },
    {
     "name": "stdout",
     "output_type": "stream",
     "text": [
      "R\n"
     ]
    }
   ],
   "source": [
    "for i in range(10):\n",
    "    plt.imshow(x_train[i].reshape(36,30))\n",
    "    plt.xlabel(y_train[i])\n",
    "    plt.show()\n",
    "    print(get_prediction(x_train[i]))"
   ]
  },
  {
   "cell_type": "code",
   "execution_count": 191,
   "metadata": {},
   "outputs": [],
   "source": [
    "im = cv2.imread('captured3.jpg', cv2.IMREAD_GRAYSCALE)"
   ]
  },
  {
   "cell_type": "code",
   "execution_count": 192,
   "metadata": {},
   "outputs": [],
   "source": [
    "im2 = cv2.resize(im, (30,36))"
   ]
  },
  {
   "cell_type": "code",
   "execution_count": 193,
   "metadata": {},
   "outputs": [],
   "source": [
    "im3 = im2/255"
   ]
  },
  {
   "cell_type": "code",
   "execution_count": 194,
   "metadata": {},
   "outputs": [
    {
     "data": {
      "text/plain": [
       "<matplotlib.image.AxesImage at 0x7f73e48bf898>"
      ]
     },
     "execution_count": 194,
     "metadata": {},
     "output_type": "execute_result"
    },
    {
     "data": {
      "image/png": "[encoded data removed]",
      "text/plain": [
       "<Figure size 432x288 with 1 Axes>"
      ]
     },
     "metadata": {
      "needs_background": "light"
     },
     "output_type": "display_data"
    }
   ],
   "source": [
    "plt.imshow(im2/255)"
   ]
  },
  {
   "cell_type": "code",
   "execution_count": 197,
   "metadata": {},
   "outputs": [
    {
     "data": {
      "text/plain": [
       "'U'"
      ]
     },
     "execution_count": 197,
     "metadata": {},
     "output_type": "execute_result"
    }
   ],
   "source": [
    "get_prediction(im3)"
   ]
  },
  {
   "cell_type": "code",
   "execution_count": 59,
   "metadata": {},
   "outputs": [
    {
     "data": {
      "text/plain": [
       "array([0.10196078, 0.09411765, 0.21568627, 0.35686275, 0.38431373,\n",
       "       0.09411765, 0.00784314, 0.02352941, 0.00392157, 0.        ,\n",
       "       0.        , 0.        , 0.        , 0.        , 0.        ,\n",
       "       0.        , 0.        , 0.        , 0.        , 0.00392157,\n",
       "       0.01568627, 0.00784314, 0.        , 0.        , 0.        ,\n",
       "       0.        , 0.        , 0.        ])"
      ]
     },
     "execution_count": 59,
     "metadata": {},
     "output_type": "execute_result"
    }
   ],
   "source": [
    "im3[0]"
   ]
  },
  {
   "cell_type": "code",
   "execution_count": null,
   "metadata": {},
   "outputs": [],
   "source": []
  }
 ],
 "metadata": {
  "kernelspec": {
   "display_name": "Python 3",
   "language": "python",
   "name": "python3"
  },
  "language_info": {
   "codemirror_mode": {
    "name": "ipython",
    "version": 3
   },
   "file_extension": ".py",
   "mimetype": "text/x-python",
   "name": "python",
   "nbconvert_exporter": "python",
   "pygments_lexer": "ipython3",
   "version": "3.6.9"
  }
 },
 "nbformat": 4,
 "nbformat_minor": 1
}
